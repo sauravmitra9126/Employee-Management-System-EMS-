{
 "cells": [
  {
   "cell_type": "code",
   "execution_count": null,
   "id": "5f2215f2-74be-4eb1-8137-b42a704d15d8",
   "metadata": {},
   "outputs": [
    {
     "name": "stdout",
     "output_type": "stream",
     "text": [
      "\n",
      "====== Employee Management System ======\n",
      "1. Add Employee\n",
      "2. View All Employees\n",
      "3. Search for Employee\n",
      "4. Exit\n"
     ]
    },
    {
     "name": "stdin",
     "output_type": "stream",
     "text": [
      "Enter your choice (1-4):  5\n"
     ]
    },
    {
     "name": "stdout",
     "output_type": "stream",
     "text": [
      "Invalid choice. Please try again.\n",
      "\n",
      "====== Employee Management System ======\n",
      "1. Add Employee\n",
      "2. View All Employees\n",
      "3. Search for Employee\n",
      "4. Exit\n"
     ]
    },
    {
     "name": "stdin",
     "output_type": "stream",
     "text": [
      "Enter your choice (1-4):  1\n",
      "Enter Employee ID:  27\n",
      "Enter Employee Name:  satya\n",
      "Enter Employee Age:  30\n",
      "Enter Department:  finance\n",
      "Enter Salary:  30000\n"
     ]
    },
    {
     "name": "stdout",
     "output_type": "stream",
     "text": [
      "Employee added successfully!\n",
      "\n",
      "====== Employee Management System ======\n",
      "1. Add Employee\n",
      "2. View All Employees\n",
      "3. Search for Employee\n",
      "4. Exit\n"
     ]
    }
   ],
   "source": [
    "# Employee Management System\n",
    "\n",
    "# Dictionary to store employee data\n",
    "employees = {\n",
    "    101: {'name': 'Satya', 'age': 27, 'department': 'HR', 'salary': 50000}\n",
    "}\n",
    "\n",
    "# Function to display the main menu\n",
    "def main_menu():\n",
    "    while True:\n",
    "        print(\"\\n====== Employee Management System ======\")\n",
    "        print(\"1. Add Employee\")\n",
    "        print(\"2. View All Employees\")\n",
    "        print(\"3. Search for Employee\")\n",
    "        print(\"4. Exit\")\n",
    "        choice = input(\"Enter your choice (1-4): \")\n",
    "\n",
    "        if choice == '1':\n",
    "            add_employee()\n",
    "        elif choice == '2':\n",
    "            view_employees()\n",
    "        elif choice == '3':\n",
    "            search_employee()\n",
    "        elif choice == '4':\n",
    "            print(\"Thank you for using the Employee Management System. Goodbye!\")\n",
    "            break\n",
    "        else:\n",
    "            print(\"Invalid choice. Please try again.\")\n",
    "\n",
    "# Function to add a new employee\n",
    "def add_employee():\n",
    "    try:\n",
    "        emp_id = int(input(\"Enter Employee ID: \"))\n",
    "        if emp_id in employees:\n",
    "            print(\"Employee ID already exists. Please try a different ID.\")\n",
    "            return\n",
    "\n",
    "        name = input(\"Enter Employee Name: \")\n",
    "        age = int(input(\"Enter Employee Age: \"))\n",
    "        department = input(\"Enter Department: \")\n",
    "        salary = float(input(\"Enter Salary: \"))\n",
    "\n",
    "        employees[emp_id] = {\n",
    "            'name': name,\n",
    "            'age': age,\n",
    "            'department': department,\n",
    "            'salary': salary\n",
    "        }\n",
    "\n",
    "        print(\"Employee added successfully!\")\n",
    "\n",
    "    except ValueError:\n",
    "        print(\"Invalid input. Please enter correct data types.\")\n",
    "\n",
    "# Function to view all employees\n",
    "def view_employees():\n",
    "    if not employees:\n",
    "        print(\"No employees available.\")\n",
    "    else:\n",
    "        print(\"\\n--- Employee List ---\")\n",
    "        print(\"{:<10} {:<15} {:<5} {:<15} {:<10}\".format('ID', 'Name', 'Age', 'Department', 'Salary'))\n",
    "        for emp_id, details in employees.items():\n",
    "            print(\"{:<10} {:<15} {:<5} {:<15} {:<10}\".format(\n",
    "                emp_id,\n",
    "                details['name'],\n",
    "                details['age'],\n",
    "                details['department'],\n",
    "                details['salary']\n",
    "            ))\n",
    "\n",
    "# Function to search for an employee by ID\n",
    "def search_employee():\n",
    "    try:\n",
    "        emp_id = int(input(\"Enter Employee ID to search: \"))\n",
    "        if emp_id in employees:\n",
    "            emp = employees[emp_id]\n",
    "            print(\"\\n--- Employee Found ---\")\n",
    "            print(f\"Name: {emp['name']}\")\n",
    "            print(f\"Age: {emp['age']}\")\n",
    "            print(f\"Department: {emp['department']}\")\n",
    "            print(f\"Salary: {emp['salary']}\")\n",
    "        else:\n",
    "            print(\"Employee not found.\")\n",
    "    except ValueError:\n",
    "        print(\"Please enter a valid numeric Employee ID.\")\n",
    "\n",
    "# Run the EMS program\n",
    "if __name__ == \"__main__\":\n",
    "    main_menu()\n"
   ]
  },
  {
   "cell_type": "code",
   "execution_count": null,
   "id": "7e6a43ac-3b39-48be-a51f-446753f245c7",
   "metadata": {},
   "outputs": [],
   "source": []
  },
  {
   "cell_type": "code",
   "execution_count": null,
   "id": "e9097f7a-39a4-49cf-89c2-b9330e37af84",
   "metadata": {},
   "outputs": [],
   "source": []
  }
 ],
 "metadata": {
  "kernelspec": {
   "display_name": "Python [conda env:base] *",
   "language": "python",
   "name": "conda-base-py"
  },
  "language_info": {
   "codemirror_mode": {
    "name": "ipython",
    "version": 3
   },
   "file_extension": ".py",
   "mimetype": "text/x-python",
   "name": "python",
   "nbconvert_exporter": "python",
   "pygments_lexer": "ipython3",
   "version": "3.12.7"
  }
 },
 "nbformat": 4,
 "nbformat_minor": 5
}
